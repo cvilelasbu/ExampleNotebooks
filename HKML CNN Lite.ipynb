{
 "cells": [
  {
   "cell_type": "markdown",
   "metadata": {},
   "source": [
    "# Notebook for Development\n",
    "\n",
    "This notebook replicates what was alrady done in [the previous example](https://github.com/WatChMaL/ExampleNotebooks/blob/master/HKML%20CNN%20Image%20Classification.ipynb) but using functions in the `classification` module. There is no new ML example here. The purpose of this notebook is to make the whole thing short and concise, so that you can use this as a testbed to develop different networks more easily."
   ]
  },
  {
   "cell_type": "code",
   "execution_count": 1,
   "metadata": {},
   "outputs": [],
   "source": [
    "from __future__ import print_function\n",
    "from IPython.display import display\n",
    "import torch, time\n",
    "import numpy as np\n",
    "%matplotlib inline"
   ]
  },
  {
   "cell_type": "markdown",
   "metadata": {},
   "source": [
    "## Defining a network\n",
    "Let us define the same network similar to how we did in the [the previous example](https://github.com/WatChMaL/ExampleNotebooks/blob/master/HKML%20CNN%20Image%20Classification.ipynb)."
   ]
  },
  {
   "cell_type": "code",
   "execution_count": 2,
   "metadata": {},
   "outputs": [],
   "source": [
    "class CNN(torch.nn.Module):\n",
    "    \n",
    "    def __init__(self, num_class):\n",
    "        \n",
    "        super(CNN, self).__init__()\n",
    "        # feature extractor CNN\n",
    "        self._feature = torch.nn.Sequential(\n",
    "            torch.nn.Conv2d(2,16,3), torch.nn.ReLU(),\n",
    "            torch.nn.MaxPool2d(2,2),\n",
    "            torch.nn.Conv2d(16,32,3), torch.nn.ReLU(),\n",
    "            torch.nn.Conv2d(32,32,3), torch.nn.ReLU(),\n",
    "            torch.nn.MaxPool2d(2,2),\n",
    "            torch.nn.Conv2d(32,64,3), torch.nn.ReLU(),\n",
    "            torch.nn.Conv2d(64,64,3), torch.nn.ReLU(),\n",
    "            torch.nn.MaxPool2d(2,2),\n",
    "            torch.nn.Conv2d(64,128,3), torch.nn.ReLU(),\n",
    "            torch.nn.Conv2d(128,128,3), torch.nn.ReLU()\n",
    "        )\n",
    "        self._classifier = torch.nn.Sequential(\n",
    "            torch.nn.Linear(128,128), torch.nn.ReLU(),\n",
    "            torch.nn.Linear(128,128), torch.nn.ReLU(),\n",
    "            torch.nn.Linear(128,num_class)\n",
    "        )\n",
    "\n",
    "    def forward(self, x):\n",
    "        net = self._feature(x)\n",
    "        net = torch.nn.AvgPool2d(net.size()[2:])(net)\n",
    "        return self._classifier(net.view(-1,128))"
   ]
  },
  {
   "cell_type": "markdown",
   "metadata": {},
   "source": [
    "## Preparing a _blob_"
   ]
  },
  {
   "cell_type": "code",
   "execution_count": 3,
   "metadata": {},
   "outputs": [],
   "source": [
    "class BLOB:\n",
    "    pass\n",
    "blob=BLOB()\n",
    "blob.net       = CNN(4).cuda() # construct Lenet for 3 class classification, use GPU\n",
    "blob.criterionPID = torch.nn.CrossEntropyLoss() # use softmax loss to define an error\n",
    "blob.alpha = 4*1e-3\n",
    "#blob.criterionE = torch.nn.MSELoss() # use softmax loss to define an error\n",
    "blob.criterionE = torch.nn.SmoothL1Loss()\n",
    "blob.optimizer = torch.optim.Adam(blob.net.parameters(),weight_decay=0.001) # use Adam optimizer algorithm\n",
    "blob.softmax   = torch.nn.Softmax(dim=1) # not for training, but softmax score for each class\n",
    "blob.data      = None # data for training/analysis\n",
    "blob.labelPID     = None # label for training/analysis\n",
    "blob.labelE = None\n",
    "\n",
    "# Create data loader\n",
    "from iotools import loader_factory\n",
    "DATA_DIRS=['/data/hkml_data/IWCDgrid/varyE/e-','/data/hkml_data/IWCDgrid/varyE/mu-','/data/hkml_data/IWCDgrid/varyE/gamma']\n",
    "# for train\n",
    "blob.train_loader=loader_factory('H5Dataset', batch_size=64, shuffle=True, num_workers=4, data_dirs=DATA_DIRS, flavour='100k.h5', start_fraction=0.0, use_fraction=0.9, read_keys=[\"energies\"])\n",
    "# for validation\n",
    "blob.test_loader=loader_factory('H5Dataset', batch_size=200, shuffle=True, num_workers=2, data_dirs=DATA_DIRS, flavour='100k.h5', start_fraction=0.9, use_fraction=0.1, read_keys=[\"energies\"])\n",
    "\n",
    "# Create & attach data recording utility (into csv file)\n",
    "from utils import CSVData\n",
    "blob.train_log, blob.test_log = CSVData('log_train.csv'), CSVData('log_test.csv')"
   ]
  },
  {
   "cell_type": "markdown",
   "metadata": {},
   "source": [
    "## Running a train loop "
   ]
  },
  {
   "cell_type": "code",
   "execution_count": null,
   "metadata": {
    "scrolled": false
   },
   "outputs": [
    {
     "name": "stdout",
     "output_type": "stream",
     "text": [
      "Epoch 0 Starting @ 2019-04-18 02:10:27\n"
     ]
    },
    {
     "data": {
      "text/html": [
       "\n",
       "        <progress \n",
       "            value='4219'\n",
       "            max='4219',\n",
       "            style='width: 30%'\n",
       "        >\n",
       "            4219\n",
       "        </progress> 100% ... Iteration 4219 ... Epoch 1.00 ... Loss 1.032 ... Accuracy 0.625\n",
       "    "
      ],
      "text/plain": [
       "<IPython.core.display.HTML object>"
      ]
     },
     "metadata": {},
     "output_type": "display_data"
    },
    {
     "name": "stdout",
     "output_type": "stream",
     "text": [
      "Epoch 1 Starting @ 2019-04-18 02:16:21\n"
     ]
    },
    {
     "data": {
      "text/html": [
       "\n",
       "        <progress \n",
       "            value='4219'\n",
       "            max='4219',\n",
       "            style='width: 30%'\n",
       "        >\n",
       "            4219\n",
       "        </progress> 100% ... Iteration 8438 ... Epoch 2.00 ... Loss 0.902 ... Accuracy 0.729\n",
       "    "
      ],
      "text/plain": [
       "<IPython.core.display.HTML object>"
      ]
     },
     "metadata": {},
     "output_type": "display_data"
    },
    {
     "name": "stdout",
     "output_type": "stream",
     "text": [
      "Epoch 2 Starting @ 2019-04-18 02:22:22\n"
     ]
    },
    {
     "data": {
      "text/html": [
       "\n",
       "        <progress \n",
       "            value='4219'\n",
       "            max='4219',\n",
       "            style='width: 30%'\n",
       "        >\n",
       "            4219\n",
       "        </progress> 100% ... Iteration 12657 ... Epoch 3.00 ... Loss 1.050 ... Accuracy 0.708\n",
       "    "
      ],
      "text/plain": [
       "<IPython.core.display.HTML object>"
      ]
     },
     "metadata": {},
     "output_type": "display_data"
    },
    {
     "name": "stdout",
     "output_type": "stream",
     "text": [
      "Epoch 3 Starting @ 2019-04-18 02:28:31\n"
     ]
    },
    {
     "data": {
      "text/html": [
       "\n",
       "        <progress \n",
       "            value='4219'\n",
       "            max='4219',\n",
       "            style='width: 30%'\n",
       "        >\n",
       "            4219\n",
       "        </progress> 100% ... Iteration 16876 ... Epoch 4.00 ... Loss 0.893 ... Accuracy 0.792\n",
       "    "
      ],
      "text/plain": [
       "<IPython.core.display.HTML object>"
      ]
     },
     "metadata": {},
     "output_type": "display_data"
    },
    {
     "name": "stdout",
     "output_type": "stream",
     "text": [
      "Epoch 4 Starting @ 2019-04-18 02:34:56\n"
     ]
    },
    {
     "data": {
      "text/html": [
       "\n",
       "        <progress \n",
       "            value='4219'\n",
       "            max='4219',\n",
       "            style='width: 30%'\n",
       "        >\n",
       "            4219\n",
       "        </progress> 100% ... Iteration 21095 ... Epoch 5.00 ... Loss 1.022 ... Accuracy 0.896\n",
       "    "
      ],
      "text/plain": [
       "<IPython.core.display.HTML object>"
      ]
     },
     "metadata": {},
     "output_type": "display_data"
    },
    {
     "name": "stdout",
     "output_type": "stream",
     "text": [
      "Epoch 5 Starting @ 2019-04-18 02:40:57\n"
     ]
    },
    {
     "data": {
      "text/html": [
       "\n",
       "        <progress \n",
       "            value='4219'\n",
       "            max='4219',\n",
       "            style='width: 30%'\n",
       "        >\n",
       "            4219\n",
       "        </progress> 100% ... Iteration 25314 ... Epoch 6.00 ... Loss 0.966 ... Accuracy 0.812\n",
       "    "
      ],
      "text/plain": [
       "<IPython.core.display.HTML object>"
      ]
     },
     "metadata": {},
     "output_type": "display_data"
    },
    {
     "name": "stdout",
     "output_type": "stream",
     "text": [
      "Epoch 6 Starting @ 2019-04-18 02:46:58\n"
     ]
    },
    {
     "data": {
      "text/html": [
       "\n",
       "        <progress \n",
       "            value='4219'\n",
       "            max='4219',\n",
       "            style='width: 30%'\n",
       "        >\n",
       "            4219\n",
       "        </progress> 100% ... Iteration 29533 ... Epoch 7.00 ... Loss 0.905 ... Accuracy 0.771\n",
       "    "
      ],
      "text/plain": [
       "<IPython.core.display.HTML object>"
      ]
     },
     "metadata": {},
     "output_type": "display_data"
    },
    {
     "name": "stdout",
     "output_type": "stream",
     "text": [
      "Epoch 7 Starting @ 2019-04-18 02:53:04\n"
     ]
    },
    {
     "data": {
      "text/html": [
       "\n",
       "        <progress \n",
       "            value='4219'\n",
       "            max='4219',\n",
       "            style='width: 30%'\n",
       "        >\n",
       "            4219\n",
       "        </progress> 100% ... Iteration 33752 ... Epoch 8.00 ... Loss 0.813 ... Accuracy 0.771\n",
       "    "
      ],
      "text/plain": [
       "<IPython.core.display.HTML object>"
      ]
     },
     "metadata": {},
     "output_type": "display_data"
    },
    {
     "name": "stdout",
     "output_type": "stream",
     "text": [
      "Epoch 8 Starting @ 2019-04-18 02:59:25\n"
     ]
    },
    {
     "data": {
      "text/html": [
       "\n",
       "        <progress \n",
       "            value='4219'\n",
       "            max='4219',\n",
       "            style='width: 30%'\n",
       "        >\n",
       "            4219\n",
       "        </progress> 100% ... Iteration 37971 ... Epoch 9.00 ... Loss 0.846 ... Accuracy 0.792\n",
       "    "
      ],
      "text/plain": [
       "<IPython.core.display.HTML object>"
      ]
     },
     "metadata": {},
     "output_type": "display_data"
    },
    {
     "name": "stdout",
     "output_type": "stream",
     "text": [
      "Epoch 9 Starting @ 2019-04-18 03:05:48\n"
     ]
    },
    {
     "data": {
      "text/html": [
       "\n",
       "        <progress \n",
       "            value='4219'\n",
       "            max='4219',\n",
       "            style='width: 30%'\n",
       "        >\n",
       "            4219\n",
       "        </progress> 100% ... Iteration 42190 ... Epoch 10.00 ... Loss 0.828 ... Accuracy 0.771\n",
       "    "
      ],
      "text/plain": [
       "<IPython.core.display.HTML object>"
      ]
     },
     "metadata": {},
     "output_type": "display_data"
    },
    {
     "name": "stdout",
     "output_type": "stream",
     "text": [
      "Epoch 10 Starting @ 2019-04-18 03:12:09\n"
     ]
    },
    {
     "data": {
      "text/html": [
       "\n",
       "        <progress \n",
       "            value='4219'\n",
       "            max='4219',\n",
       "            style='width: 30%'\n",
       "        >\n",
       "            4219\n",
       "        </progress> 100% ... Iteration 46409 ... Epoch 11.00 ... Loss 0.793 ... Accuracy 0.875\n",
       "    "
      ],
      "text/plain": [
       "<IPython.core.display.HTML object>"
      ]
     },
     "metadata": {},
     "output_type": "display_data"
    },
    {
     "name": "stdout",
     "output_type": "stream",
     "text": [
      "Epoch 11 Starting @ 2019-04-18 03:18:33\n"
     ]
    },
    {
     "data": {
      "text/html": [
       "\n",
       "        <progress \n",
       "            value='4219'\n",
       "            max='4219',\n",
       "            style='width: 30%'\n",
       "        >\n",
       "            4219\n",
       "        </progress> 100% ... Iteration 50628 ... Epoch 12.00 ... Loss 0.680 ... Accuracy 0.875\n",
       "    "
      ],
      "text/plain": [
       "<IPython.core.display.HTML object>"
      ]
     },
     "metadata": {},
     "output_type": "display_data"
    },
    {
     "name": "stdout",
     "output_type": "stream",
     "text": [
      "Epoch 12 Starting @ 2019-04-18 03:24:45\n"
     ]
    },
    {
     "data": {
      "text/html": [
       "\n",
       "        <progress \n",
       "            value='4219'\n",
       "            max='4219',\n",
       "            style='width: 30%'\n",
       "        >\n",
       "            4219\n",
       "        </progress> 100% ... Iteration 54847 ... Epoch 13.00 ... Loss 0.609 ... Accuracy 0.812\n",
       "    "
      ],
      "text/plain": [
       "<IPython.core.display.HTML object>"
      ]
     },
     "metadata": {},
     "output_type": "display_data"
    },
    {
     "name": "stdout",
     "output_type": "stream",
     "text": [
      "Epoch 13 Starting @ 2019-04-18 03:30:59\n"
     ]
    },
    {
     "data": {
      "text/html": [
       "\n",
       "        <progress \n",
       "            value='4219'\n",
       "            max='4219',\n",
       "            style='width: 30%'\n",
       "        >\n",
       "            4219\n",
       "        </progress> 100% ... Iteration 59066 ... Epoch 14.00 ... Loss 0.742 ... Accuracy 0.771\n",
       "    "
      ],
      "text/plain": [
       "<IPython.core.display.HTML object>"
      ]
     },
     "metadata": {},
     "output_type": "display_data"
    },
    {
     "name": "stdout",
     "output_type": "stream",
     "text": [
      "Epoch 14 Starting @ 2019-04-18 03:36:57\n"
     ]
    },
    {
     "data": {
      "text/html": [
       "\n",
       "        <progress \n",
       "            value='4219'\n",
       "            max='4219',\n",
       "            style='width: 30%'\n",
       "        >\n",
       "            4219\n",
       "        </progress> 100% ... Iteration 63285 ... Epoch 15.00 ... Loss 0.864 ... Accuracy 0.771\n",
       "    "
      ],
      "text/plain": [
       "<IPython.core.display.HTML object>"
      ]
     },
     "metadata": {},
     "output_type": "display_data"
    },
    {
     "name": "stdout",
     "output_type": "stream",
     "text": [
      "Epoch 15 Starting @ 2019-04-18 03:43:08\n"
     ]
    },
    {
     "data": {
      "text/html": [
       "\n",
       "        <progress \n",
       "            value='4219'\n",
       "            max='4219',\n",
       "            style='width: 30%'\n",
       "        >\n",
       "            4219\n",
       "        </progress> 100% ... Iteration 67504 ... Epoch 16.00 ... Loss 0.830 ... Accuracy 0.750\n",
       "    "
      ],
      "text/plain": [
       "<IPython.core.display.HTML object>"
      ]
     },
     "metadata": {},
     "output_type": "display_data"
    },
    {
     "name": "stdout",
     "output_type": "stream",
     "text": [
      "Epoch 16 Starting @ 2019-04-18 03:49:22\n"
     ]
    },
    {
     "data": {
      "text/html": [
       "\n",
       "        <progress \n",
       "            value='4219'\n",
       "            max='4219',\n",
       "            style='width: 30%'\n",
       "        >\n",
       "            4219\n",
       "        </progress> 100% ... Iteration 71723 ... Epoch 17.00 ... Loss 0.924 ... Accuracy 0.750\n",
       "    "
      ],
      "text/plain": [
       "<IPython.core.display.HTML object>"
      ]
     },
     "metadata": {},
     "output_type": "display_data"
    },
    {
     "name": "stdout",
     "output_type": "stream",
     "text": [
      "Epoch 17 Starting @ 2019-04-18 03:55:25\n"
     ]
    },
    {
     "data": {
      "text/html": [
       "\n",
       "        <progress \n",
       "            value='4219'\n",
       "            max='4219',\n",
       "            style='width: 30%'\n",
       "        >\n",
       "            4219\n",
       "        </progress> 100% ... Iteration 75942 ... Epoch 18.00 ... Loss 0.982 ... Accuracy 0.854\n",
       "    "
      ],
      "text/plain": [
       "<IPython.core.display.HTML object>"
      ]
     },
     "metadata": {},
     "output_type": "display_data"
    },
    {
     "name": "stdout",
     "output_type": "stream",
     "text": [
      "Epoch 18 Starting @ 2019-04-18 04:01:22\n"
     ]
    },
    {
     "data": {
      "text/html": [
       "\n",
       "        <progress \n",
       "            value='4219'\n",
       "            max='4219',\n",
       "            style='width: 30%'\n",
       "        >\n",
       "            4219\n",
       "        </progress> 100% ... Iteration 80161 ... Epoch 19.00 ... Loss 1.074 ... Accuracy 0.812\n",
       "    "
      ],
      "text/plain": [
       "<IPython.core.display.HTML object>"
      ]
     },
     "metadata": {},
     "output_type": "display_data"
    },
    {
     "name": "stdout",
     "output_type": "stream",
     "text": [
      "Epoch 19 Starting @ 2019-04-18 04:07:32\n"
     ]
    },
    {
     "data": {
      "text/html": [
       "\n",
       "        <progress \n",
       "            value='4219'\n",
       "            max='4219',\n",
       "            style='width: 30%'\n",
       "        >\n",
       "            4219\n",
       "        </progress> 100% ... Iteration 84380 ... Epoch 20.00 ... Loss 0.808 ... Accuracy 0.812\n",
       "    "
      ],
      "text/plain": [
       "<IPython.core.display.HTML object>"
      ]
     },
     "metadata": {},
     "output_type": "display_data"
    },
    {
     "name": "stdout",
     "output_type": "stream",
     "text": [
      "Epoch 20 Starting @ 2019-04-18 04:13:33\n"
     ]
    },
    {
     "data": {
      "text/html": [
       "\n",
       "        <progress \n",
       "            value='4219'\n",
       "            max='4219',\n",
       "            style='width: 30%'\n",
       "        >\n",
       "            4219\n",
       "        </progress> 100% ... Iteration 88599 ... Epoch 21.00 ... Loss 0.843 ... Accuracy 0.812\n",
       "    "
      ],
      "text/plain": [
       "<IPython.core.display.HTML object>"
      ]
     },
     "metadata": {},
     "output_type": "display_data"
    },
    {
     "name": "stdout",
     "output_type": "stream",
     "text": [
      "Epoch 21 Starting @ 2019-04-18 04:19:50\n"
     ]
    },
    {
     "data": {
      "text/html": [
       "\n",
       "        <progress \n",
       "            value='64'\n",
       "            max='4219',\n",
       "            style='width: 30%'\n",
       "        >\n",
       "            64\n",
       "        </progress> 1% ... Iteration 91690 ... Epoch 21.73 ... Loss 0.776 ... LossE 0.375 ... LossPID 0.401 Accuracy 0.781\n",
       "    "
      ],
      "text/plain": [
       "<IPython.core.display.HTML object>"
      ]
     },
     "metadata": {},
     "output_type": "display_data"
    }
   ],
   "source": [
    "from classification import train_loop\n",
    "train_loop(blob,50.)"
   ]
  },
  {
   "cell_type": "markdown",
   "metadata": {},
   "source": [
    "## Inspecting the training process"
   ]
  },
  {
   "cell_type": "code",
   "execution_count": null,
   "metadata": {
    "scrolled": false
   },
   "outputs": [],
   "source": [
    "from classification import plot_log\n",
    "plot_log(blob.train_log.name,blob.test_log.name)"
   ]
  },
  {
   "cell_type": "code",
   "execution_count": null,
   "metadata": {},
   "outputs": [],
   "source": [
    "torch.save(blob.net.state_dict(), \"cvn_10epochs_huberloss_EkinAboveThr.cnn\")"
   ]
  },
  {
   "cell_type": "markdown",
   "metadata": {},
   "source": [
    "## Performance Analysis"
   ]
  },
  {
   "cell_type": "code",
   "execution_count": null,
   "metadata": {},
   "outputs": [],
   "source": [
    "from classification import inference\n",
    "accuracy, labelPID, predictionPID,labelE, predictionE = inference(blob,blob.test_loader)\n",
    "print('Accuracy mean',accuracy.mean(),'std',accuracy.std())"
   ]
  },
  {
   "cell_type": "markdown",
   "metadata": {},
   "source": [
    "Plot the confusion matrix"
   ]
  },
  {
   "cell_type": "code",
   "execution_count": null,
   "metadata": {},
   "outputs": [],
   "source": [
    "print(labelPID)\n",
    "print(predictionPID)\n",
    "\n",
    "from utils import plot_confusion_matrix\n",
    "plot_confusion_matrix(labelPID,predictionPID,['gamma','electron','muon'])"
   ]
  },
  {
   "cell_type": "code",
   "execution_count": null,
   "metadata": {},
   "outputs": [],
   "source": [
    "import matplotlib.pyplot as plt\n",
    "plt.hist2d(x = labelE, y = predictionE, bins = 100)\n",
    "plt.xlabel(\"True\")\n",
    "plt.ylabel(\"Predicted\")\n",
    "#plt.savefig(\"cnn_50epochs_varyE_EtrueErec.pdf\")\n",
    "#plt.savefig(\"cnn_50epochs_varyE_EtrueErec.png\")\n",
    "plt.show()"
   ]
  },
  {
   "cell_type": "code",
   "execution_count": null,
   "metadata": {},
   "outputs": [],
   "source": [
    "plt.hist2d(x = labelE, y = predictionE/labelE-1., bins = 100, range = ((0, 2500), (-0.4, 0.4)))\n",
    "plt.xlabel(\"True\")\n",
    "plt.ylabel(r\"$\\frac{Predicted}{True}-1$\")\n",
    "#plt.savefig(\"cnn_50epochs_varyE_EtrueErecFrac.pdf\")\n",
    "#plt.savefig(\"cnn_50epochs_varyE_EtrueErecFrac.png\")\n",
    "plt.show()"
   ]
  },
  {
   "cell_type": "code",
   "execution_count": null,
   "metadata": {},
   "outputs": [],
   "source": [
    "maskGamma = labelPID == 0\n",
    "maskElectron = labelPID == 1\n",
    "maskMuon = labelPID == 2\n",
    "\n",
    "\n",
    "plt.hist(predictionE[maskGamma]/labelE[maskGamma]-1., bins = 100, range = (-0.4, 0.4), histtype=\"step\", label=r\"$\\gamma$\")\n",
    "plt.hist(predictionE[maskElectron]/labelE[maskElectron]-1., bins = 100, range = (-0.4, 0.4), histtype=\"step\", label=r\"$e$\")\n",
    "plt.hist(predictionE[maskMuon]/labelE[maskMuon]-1., bins = 100, range = (-0.4, 0.4), histtype=\"step\", label=r\"$\\mu$\")\n",
    "\n",
    "plt.xlabel(r\"$\\frac{Predicted}{True}-1$\")\n",
    "\n",
    "plt.legend()\n",
    "\n",
    "#plt.savefig(\"cnn_50epochs_varyE_EtrueErecProj.pdf\")\n",
    "#plt.savefig(\"cnn_50epochs_varyE_EtrueErecProj.png\")\n",
    "\n",
    "plt.show()"
   ]
  },
  {
   "cell_type": "code",
   "execution_count": null,
   "metadata": {},
   "outputs": [],
   "source": []
  }
 ],
 "metadata": {
  "kernelspec": {
   "display_name": "Python 2",
   "language": "python",
   "name": "python2"
  },
  "language_info": {
   "codemirror_mode": {
    "name": "ipython",
    "version": 2
   },
   "file_extension": ".py",
   "mimetype": "text/x-python",
   "name": "python",
   "nbconvert_exporter": "python",
   "pygments_lexer": "ipython2",
   "version": "2.7.12"
  }
 },
 "nbformat": 4,
 "nbformat_minor": 2
}
